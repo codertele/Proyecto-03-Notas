{
 "cells": [
  {
   "attachments": {},
   "cell_type": "markdown",
   "metadata": {},
   "source": [
    "# Tmux"
   ]
  },
  {
   "attachments": {},
   "cell_type": "markdown",
   "metadata": {},
   "source": [
    "tmux"
   ]
  },
  {
   "attachments": {},
   "cell_type": "markdown",
   "metadata": {},
   "source": [
    "#### Atajos de teclado"
   ]
  },
  {
   "attachments": {},
   "cell_type": "markdown",
   "metadata": {},
   "source": [
    "*Crear una nueva sesion*\n",
    "\n",
    " * Ctrl + b, c\n",
    "\n",
    "*Listar las sesiones*\n",
    "\n",
    "* Ctrl + b, w\n",
    "\n",
    "*Renombrar sesiones*\n",
    "\n",
    "* Ctrl + b  \",\"\n",
    "\n",
    "*Mover entre sesiones*\n",
    "\n",
    "* Ctrl +  < nº de sesion >\n",
    "\n",
    "*Dividir terminal horizontal*\n",
    "\n",
    "* Ctrl + b, \"\n",
    "\n",
    "*Dividir terminal vertical*\n",
    "\n",
    "* Ctrl + b, %\n",
    "\n",
    "*Mover entre terminales divididas*\n",
    "\n",
    "* Ctrl + b, flechas"
   ]
  },
  {
   "attachments": {},
   "cell_type": "markdown",
   "metadata": {},
   "source": [
    "*Cerrar*\n",
    "\n",
    "* Ctrl + b, x"
   ]
  },
  {
   "attachments": {},
   "cell_type": "markdown",
   "metadata": {},
   "source": [
    "*Ivertir split (de horizontal a vertical y viceversa)*\n",
    "\n",
    "* Ctrl + b, espacio"
   ]
  },
  {
   "attachments": {},
   "cell_type": "markdown",
   "metadata": {},
   "source": [
    "*Alternar el contenido (de izquierda a derecha y viceversa)*\n",
    "\n",
    "* Ctrl + b, { }"
   ]
  },
  {
   "attachments": {},
   "cell_type": "markdown",
   "metadata": {},
   "source": [
    "*Redimensionar los paneles*\n",
    "\n",
    "* Ctrl + b, ctrl + flechas"
   ]
  },
  {
   "attachments": {},
   "cell_type": "markdown",
   "metadata": {},
   "source": [
    "*Zoom*\n",
    "\n",
    "* Ctrl + b, z\n"
   ]
  },
  {
   "attachments": {},
   "cell_type": "markdown",
   "metadata": {},
   "source": [
    "*Modo copia, avanzar pagina*\n",
    "\n",
    "* Ctrl + b, ["
   ]
  },
  {
   "attachments": {},
   "cell_type": "markdown",
   "metadata": {},
   "source": [
    "*Ver numero de paneles*\n",
    "\n",
    "* Ctrl + b, q"
   ]
  },
  {
   "attachments": {},
   "cell_type": "markdown",
   "metadata": {},
   "source": [
    "*Ver la hora*\n",
    "\n",
    "* Ctrl + b, t"
   ]
  },
  {
   "attachments": {},
   "cell_type": "markdown",
   "metadata": {},
   "source": [
    "#### Comandos"
   ]
  },
  {
   "attachments": {},
   "cell_type": "markdown",
   "metadata": {},
   "source": [
    "*Crear una nueva session*\n",
    "\n",
    "* tmux new -s \"Demo\"\n",
    "\n",
    "*Cerrar*\n",
    "\n",
    "* tmux kill-session -t 1"
   ]
  }
 ],
 "metadata": {
  "kernelspec": {
   "display_name": "base",
   "language": "python",
   "name": "python3"
  },
  "language_info": {
   "name": "python",
   "version": "3.9.13 (main, Aug 25 2022, 23:26:10) \n[GCC 11.2.0]"
  },
  "orig_nbformat": 4,
  "vscode": {
   "interpreter": {
    "hash": "46f35c9eff8a0d1491dda540887722365ac83ec886b03d1f07de4a34c3620054"
   }
  }
 },
 "nbformat": 4,
 "nbformat_minor": 2
}
