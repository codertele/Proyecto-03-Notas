{
 "cells": [
  {
   "cell_type": "markdown",
   "metadata": {},
   "source": [
    "___"
   ]
  },
  {
   "attachments": {},
   "cell_type": "markdown",
   "metadata": {},
   "source": [
    "### CONFIGURACION INICIAL ###"
   ]
  },
  {
   "attachments": {},
   "cell_type": "markdown",
   "metadata": {},
   "source": [
    "*Setear nombre*\n",
    "\n",
    "    git config --global user.name \"nombre\"\n",
    "    \n",
    "*Setear email*\n",
    "\n",
    "    git config --global user.email \"email\"\n",
    "    \n",
    "*Consultar nombre*\n",
    "\n",
    "    git config --global user.name\n",
    "    \n",
    "*Consultar email*\n",
    "\n",
    "    git config --global user.email "
   ]
  },
  {
   "cell_type": "markdown",
   "metadata": {},
   "source": [
    "___"
   ]
  },
  {
   "attachments": {},
   "cell_type": "markdown",
   "metadata": {},
   "source": [
    "### COMENZAR PROYECTO ###"
   ]
  },
  {
   "attachments": {},
   "cell_type": "markdown",
   "metadata": {},
   "source": [
    "*Crea un repositorio local.*\n",
    "\n",
    "    git init\n",
    "\n",
    "*Pregunta el status de nuestro repositorio.*\n",
    "\n",
    "    git status\n",
    "\n",
    "*Agrega archivos al Staging Area*\n",
    "    \n",
    "    git add <archivo>\n",
    "\n",
    "*Agregar todos los archivos al Staging Area.*    \n",
    "    \n",
    "    git add -A\n",
    "\n",
    "*Quita un archivo del Staging Area*\n",
    "\n",
    "    git rm --cached <archivo>\n"
   ]
  },
  {
   "attachments": {},
   "cell_type": "markdown",
   "metadata": {},
   "source": [
    "___"
   ]
  },
  {
   "attachments": {},
   "cell_type": "markdown",
   "metadata": {},
   "source": [
    "### COMMIT ###"
   ]
  },
  {
   "attachments": {},
   "cell_type": "markdown",
   "metadata": {},
   "source": [
    "Agregar al proyecto git.\n",
    "\n",
    "    git commit -m \"Descripcion breve\"\n",
    "\n",
    "Ver el historial de commits y sus claves alfanumericas.\n",
    "\n",
    "    git log\n",
    "\n",
    "Para viajar a un commit o una rama en el repositorio.\n",
    "\n",
    "    git checkout <id_commit>\n",
    "\n",
    "Volver al estado original o ultimo cambio guardado.\n",
    "\n",
    "    git checkout master"
   ]
  },
  {
   "attachments": {},
   "cell_type": "markdown",
   "metadata": {},
   "source": [
    "___"
   ]
  },
  {
   "attachments": {},
   "cell_type": "markdown",
   "metadata": {},
   "source": [
    "### MOVER EL MASTER/HEAD ###"
   ]
  },
  {
   "attachments": {},
   "cell_type": "markdown",
   "metadata": {},
   "source": [
    "*Deja el commit, indicado en el comando, como último sin modificar el proyecto.*\n",
    "\n",
    "    git reset --soft <id_commit>\n",
    "\n",
    "*Deja el commit, indicado en el comando, como último modificando el proyecto con las características de dicho commit.*\n",
    "\n",
    "    git reset --hard <id_commit>"
   ]
  },
  {
   "attachments": {},
   "cell_type": "markdown",
   "metadata": {},
   "source": [
    "___"
   ]
  },
  {
   "attachments": {},
   "cell_type": "markdown",
   "metadata": {},
   "source": [
    "### RAMAS ###"
   ]
  },
  {
   "attachments": {},
   "cell_type": "markdown",
   "metadata": {},
   "source": [
    "*Ver ramas actuales.*\n",
    "\n",
    "    git branch       \n",
    "\n",
    "*Crear una nueva rama.*\n",
    "\n",
    "    git branch <rama>\n",
    "\n",
    "*Adicionar rama al master.*\n",
    "\n",
    "    git merge <rama>\n",
    "\n",
    "*Eliminar la rama.*\n",
    "\n",
    "    git branch <rama> -D \n"
   ]
  }
 ],
 "metadata": {
  "kernelspec": {
   "display_name": "base",
   "language": "python",
   "name": "python3"
  },
  "language_info": {
   "codemirror_mode": {
    "name": "ipython",
    "version": 3
   },
   "file_extension": ".py",
   "mimetype": "text/x-python",
   "name": "python",
   "nbconvert_exporter": "python",
   "pygments_lexer": "ipython3",
   "version": "3.9.13 (main, Aug 25 2022, 23:26:10) \n[GCC 11.2.0]"
  },
  "orig_nbformat": 4,
  "vscode": {
   "interpreter": {
    "hash": "9676a930ea0e240d84b9f44c4b3416a4eb98d02d1bbee5c72d21fcf181420448"
   }
  }
 },
 "nbformat": 4,
 "nbformat_minor": 2
}
