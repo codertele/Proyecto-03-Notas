{
 "cells": [
  {
   "attachments": {},
   "cell_type": "markdown",
   "metadata": {},
   "source": [
    "Definicion del problema"
   ]
  },
  {
   "attachments": {},
   "cell_type": "markdown",
   "metadata": {},
   "source": [
    "Al buscar la solucion a un problema, cambiamos repetidamente de punto de vista y de la forma en que miramos el problema.\n",
    "\n",
    "Polya nosdice que hay cuatro fases al abordar un problema:\n",
    "\n",
    "* Entender el problema.\n",
    "* Planificar el abordaje.\n",
    "* Ejecutar el plan diseñado.\n",
    "* Revisar la solucion obtenida."
   ]
  },
  {
   "attachments": {},
   "cell_type": "markdown",
   "metadata": {},
   "source": [
    "Metadatos"
   ]
  },
  {
   "attachments": {},
   "cell_type": "markdown",
   "metadata": {},
   "source": [
    "Son datos que hablan de otros datos\n",
    "\n",
    "* Son altamente estructurados y describen caracteristicas de otros datos: cotenido, calidad, informacion y otros atributos.\n",
    "* Tienen diferencias entre si, segun las reglas estabecidas para determinar la estructura interna de los esquemas de los datos que describen.\n",
    "* Pueden clasificarse segun distintos croterios: contenido, variabilidad o funcion.\n"
   ]
  },
  {
   "cell_type": "markdown",
   "metadata": {},
   "source": [
    "Dublin Core (estandares)"
   ]
  }
 ],
 "metadata": {
  "kernelspec": {
   "display_name": "base",
   "language": "python",
   "name": "python3"
  },
  "language_info": {
   "codemirror_mode": {
    "name": "ipython",
    "version": 3
   },
   "file_extension": ".py",
   "mimetype": "text/x-python",
   "name": "python",
   "nbconvert_exporter": "python",
   "pygments_lexer": "ipython3",
   "version": "3.9.13 (main, Aug 25 2022, 23:26:10) \n[GCC 11.2.0]"
  },
  "orig_nbformat": 4,
  "vscode": {
   "interpreter": {
    "hash": "9676a930ea0e240d84b9f44c4b3416a4eb98d02d1bbee5c72d21fcf181420448"
   }
  }
 },
 "nbformat": 4,
 "nbformat_minor": 2
}
