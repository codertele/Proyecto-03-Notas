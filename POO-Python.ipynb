{
 "cells": [
  {
   "attachments": {},
   "cell_type": "markdown",
   "metadata": {},
   "source": [
    "## POO - Python "
   ]
  },
  {
   "attachments": {},
   "cell_type": "markdown",
   "metadata": {},
   "source": [
    "Definir una clase en python"
   ]
  },
  {
   "cell_type": "code",
   "execution_count": 14,
   "metadata": {},
   "outputs": [],
   "source": [
    "# Clase\n",
    "class Curso:\n",
    "    pass\n",
    "\n",
    "# Objeto\n",
    "curso_python = Curso()"
   ]
  },
  {
   "attachments": {},
   "cell_type": "markdown",
   "metadata": {},
   "source": [
    "Atributo"
   ]
  },
  {
   "cell_type": "code",
   "execution_count": 13,
   "metadata": {},
   "outputs": [
    {
     "name": "stdout",
     "output_type": "stream",
     "text": [
      "Uriel\n",
      "Cody\n"
     ]
    }
   ],
   "source": [
    "class Usuario:\n",
    "    # Atributo\n",
    "    nombre = \"Uriel\"\n",
    "\n",
    "uriel = Usuario()\n",
    "cody = Usuario()\n",
    "\n",
    "cody.nombre = \"Cody\"\n",
    "\n",
    "print(uriel.nombre)\n",
    "print(cody.nombre)"
   ]
  },
  {
   "attachments": {},
   "cell_type": "markdown",
   "metadata": {},
   "source": [
    "Metodo"
   ]
  },
  {
   "cell_type": "code",
   "execution_count": 12,
   "metadata": {},
   "outputs": [
    {
     "name": "stdout",
     "output_type": "stream",
     "text": [
      "Mi nombre es: Marcos\n"
     ]
    }
   ],
   "source": [
    "class Usuario:\n",
    "    nombre = \"Uriel\"\n",
    "    # Metodo\n",
    "    def saludar(self, saludo):\n",
    "        print(saludo + self.nombre)\n",
    "\n",
    "uriel = Usuario()\n",
    "uriel.nombre = \"Marcos\"\n",
    "\n",
    "uriel.saludar(\"Mi nombre es: \")"
   ]
  },
  {
   "attachments": {},
   "cell_type": "markdown",
   "metadata": {},
   "source": [
    "this o self hace referencia al objeto de la clase, el contexto"
   ]
  },
  {
   "attachments": {},
   "cell_type": "markdown",
   "metadata": {},
   "source": [
    "Metodo Constructor"
   ]
  },
  {
   "cell_type": "code",
   "execution_count": 16,
   "metadata": {},
   "outputs": [
    {
     "name": "stdout",
     "output_type": "stream",
     "text": [
      "Mi nombre es: Marcos\n"
     ]
    }
   ],
   "source": [
    "class Usuario:\n",
    "\n",
    "    # Metodo constructor\n",
    "    def __init__(self):\n",
    "        nombre = \"Uriel\"\n",
    "\n",
    "    def saludar(self, saludo):\n",
    "        print(saludo + self.nombre)\n",
    "\n",
    "uriel = Usuario()\n",
    "uriel.nombre = \"Marcos\"\n",
    "\n",
    "uriel.saludar(\"Mi nombre es: \")"
   ]
  },
  {
   "attachments": {},
   "cell_type": "markdown",
   "metadata": {},
   "source": [
    "Herencia"
   ]
  },
  {
   "cell_type": "code",
   "execution_count": 44,
   "metadata": {},
   "outputs": [
    {
     "name": "stdout",
     "output_type": "stream",
     "text": [
      "1000\n",
      "Mi nombre es Juan y gano: 1000\n"
     ]
    }
   ],
   "source": [
    "class Usuario:\n",
    "\n",
    "    def __init__(self, nombre):\n",
    "        self.nombre = nombre\n",
    "\n",
    "    def saludar(self, saludo):\n",
    "        print(saludo + self.nombre)\n",
    "\n",
    "class Empleado(Usuario):\n",
    "    salario = 0\n",
    "\n",
    "    def modificarSalario(self, salario):\n",
    "        self.salario = salario\n",
    "    \n",
    "    def verSalario(self):\n",
    "        print(self.salario)\n",
    "\n",
    "    def saludar(self):\n",
    "        print(\"Mi nombre es \" + self.nombre + \" y gano: \" + str(self.salario) )\n",
    "\n",
    "empleado = Empleado(\"Juan\")\n",
    "\n",
    "empleado.modificarSalario(1000)\n",
    "empleado.verSalario()\n",
    "empleado.saludar()"
   ]
  },
  {
   "attachments": {},
   "cell_type": "markdown",
   "metadata": {},
   "source": [
    "Super"
   ]
  },
  {
   "cell_type": "code",
   "execution_count": 46,
   "metadata": {},
   "outputs": [
    {
     "name": "stdout",
     "output_type": "stream",
     "text": [
      "1000\n",
      "Hola!Juan\n",
      "Mi nombre es Juan y gano: 1000\n"
     ]
    }
   ],
   "source": [
    "class Usuario:\n",
    "\n",
    "    def __init__(self, nombre):\n",
    "        self.nombre = nombre\n",
    "\n",
    "    def saludar(self, saludo):\n",
    "        print(saludo + self.nombre)\n",
    "\n",
    "class Empleado(Usuario):\n",
    "    salario = 0\n",
    "\n",
    "    def modificarSalario(self, salario):\n",
    "        self.salario = salario\n",
    "    \n",
    "    def verSalario(self):\n",
    "        print(self.salario)\n",
    "\n",
    "    def saludar(self):\n",
    "        super().saludar(\"Hola!\")\n",
    "        print(\"Mi nombre es \" + self.nombre + \" y gano: \" + str(self.salario) )\n",
    "\n",
    "empleado = Empleado(\"Juan\")\n",
    "\n",
    "empleado.modificarSalario(1000)\n",
    "empleado.verSalario()\n",
    "empleado.saludar()\n",
    "\n"
   ]
  },
  {
   "attachments": {},
   "cell_type": "markdown",
   "metadata": {},
   "source": [
    "La relacion: \"es un/a\" de dos clases para reutilizar codigo"
   ]
  },
  {
   "attachments": {},
   "cell_type": "markdown",
   "metadata": {},
   "source": [
    "Abstraccion y Encapsulacion"
   ]
  },
  {
   "attachments": {},
   "cell_type": "markdown",
   "metadata": {},
   "source": [
    "3 metodos de alcances: \n",
    "\n",
    "* Propiedades publicas\n",
    "* Propiedades protegidas\n",
    "* Propiedades privadas"
   ]
  },
  {
   "cell_type": "code",
   "execution_count": null,
   "metadata": {},
   "outputs": [],
   "source": [
    "class Usuario:\n",
    "\n",
    "    def __init__(self, nombre):\n",
    "        self.__nombre = nombre\n",
    "\n",
    "    def saludar(self, saludo):\n",
    "        print(saludo + self.__nombre)\n",
    "\n",
    "class Empleado(Usuario):\n",
    "    _salario = 0\n",
    "\n",
    "    def modificarSalario(self, salario):\n",
    "        self._salario = salario\n",
    "    \n",
    "    def verSalario(self):\n",
    "        print(self._salario)\n",
    "\n",
    "    def saludar(self):\n",
    "        super().saludar(\"Hola!\")\n",
    "        print(\"Mi nombre es \" + self.__nombre + \" y gano: \" + str(self._salario) )\n",
    "\n",
    "empleado = Empleado(\"Juan\")\n",
    "\n",
    "empleado.modificarSalario(1000)\n",
    "empleado.verSalario()\n",
    "empleado.saludar()"
   ]
  },
  {
   "attachments": {},
   "cell_type": "markdown",
   "metadata": {},
   "source": [
    "Metodos accesores:\n",
    "\n",
    "* Getter (retornar valor de la propiedad)\n",
    "* Setter (asignar valor a la propiedad)"
   ]
  },
  {
   "cell_type": "code",
   "execution_count": 11,
   "metadata": {},
   "outputs": [
    {
     "name": "stdout",
     "output_type": "stream",
     "text": [
      "1000\n",
      "Hola!Juan\n",
      "Mi nombre es Juan y gano: 1000\n",
      "26\n"
     ]
    }
   ],
   "source": [
    "class Usuario:\n",
    "    __edad = 0\n",
    "\n",
    "    def __init__(self, nombre):\n",
    "        self._nombre = nombre\n",
    "\n",
    "    def saludar(self, saludo):\n",
    "        print(saludo + self._nombre)\n",
    "\n",
    "    # Getter\n",
    "    @property\n",
    "    def edad(self):\n",
    "        return self.__edad\n",
    "\n",
    "    # Setter\n",
    "    @edad.setter\n",
    "    def edad(self, valor):\n",
    "        self.__edad = valor\n",
    "\n",
    "class Empleado(Usuario):\n",
    "    _salario = 0\n",
    "\n",
    "    # Setter\n",
    "    def modificarSalario(self, salario):\n",
    "        self._salario = salario\n",
    "    \n",
    "    # Getter\n",
    "    def verSalario(self):\n",
    "        print(self._salario)\n",
    "\n",
    "    def saludar(self):\n",
    "        super().saludar(\"Hola!\")\n",
    "        print(\"Mi nombre es \" + self._nombre + \" y gano: \" + str(self._salario) )\n",
    "\n",
    "empleado = Empleado(\"Juan\")\n",
    "\n",
    "empleado.modificarSalario(1000)\n",
    "empleado.verSalario()\n",
    "empleado.saludar()\n",
    "\n",
    "empleado.edad = 26\n",
    "print(empleado.edad)"
   ]
  },
  {
   "attachments": {},
   "cell_type": "markdown",
   "metadata": {},
   "source": [
    "Abstraccion, el que, no el como. Que hara el objeto en vez de como lo va a realizar. Abstraccion y encapsulacion van muy ligados de acuerdo al objetivo de ocultar los \"como\"."
   ]
  },
  {
   "attachments": {},
   "cell_type": "markdown",
   "metadata": {},
   "source": [
    "Abstraccion: que va hacer mi objeto.\n",
    "Encapsulacion: como lo va hacer."
   ]
  },
  {
   "attachments": {},
   "cell_type": "markdown",
   "metadata": {},
   "source": [
    "El diseño y no la implementacion de la mismas. Se define el esqueleto de las clase para que sean las clases hijas las que terminen por implementar este esqueleto o estructura. "
   ]
  },
  {
   "cell_type": "code",
   "execution_count": null,
   "metadata": {},
   "outputs": [],
   "source": [
    "from abc import ABC, abstractmethod\n",
    "\n",
    "# clase abstract\n",
    "class EstructuraAbstracta(ABC):\n",
    "\n",
    "    @abstractmethod\n",
    "    def obtener():\n",
    "        pass\n",
    "\n",
    "    @abstractmethod\n",
    "    def agregar():\n",
    "        pass\n",
    "\n",
    "\n",
    "class FilaBanco:\n",
    "    usuarios =  []\n",
    "\n",
    "    def siguiente_usuario(self, numero):\n",
    "        # implementacion\n",
    "        return self.usuarios.obtener[numero]\n",
    "\n",
    "    def formar_usuario(self, numero, usuario):\n",
    "        self.usuarios.agregar[ticket] = usuario\n",
    "\n",
    "class Hash():\n",
    "    data={}\n",
    "\n",
    "    def obtener(self, llave):\n",
    "        datos[llave]\n",
    "    def agregar(self,llave,valor):\n",
    "        datos[llave] = valor\n"
   ]
  },
  {
   "attachments": {},
   "cell_type": "markdown",
   "metadata": {},
   "source": [
    "Polimorfismo"
   ]
  },
  {
   "attachments": {},
   "cell_type": "markdown",
   "metadata": {},
   "source": [
    "El objeto puede tomar varias formas de acuerdo a las clases que herede"
   ]
  },
  {
   "attachments": {},
   "cell_type": "markdown",
   "metadata": {},
   "source": [
    "En python no existen las interfaces. \n",
    "\n",
    "Duck Typing:\n",
    "\n",
    "Cuando veo a un pato que camina como pato, hace como pato y grazna como pato, puedo decir que  es un pato"
   ]
  },
  {
   "cell_type": "code",
   "execution_count": 16,
   "metadata": {},
   "outputs": [
    {
     "name": "stdout",
     "output_type": "stream",
     "text": [
      "Mundo\n",
      "Hola\n"
     ]
    }
   ],
   "source": [
    "class Page:\n",
    " def print_footer(self):\n",
    "   print('Hola')\n",
    "\n",
    "class LegalPage(Page):\n",
    " def print_footer(self):\n",
    "   print(\"Mundo\")\n",
    "   super().print_footer()\n",
    "\n",
    "p = LegalPage()\n",
    "p.print_footer()"
   ]
  }
 ],
 "metadata": {
  "kernelspec": {
   "display_name": "base",
   "language": "python",
   "name": "python3"
  },
  "language_info": {
   "codemirror_mode": {
    "name": "ipython",
    "version": 3
   },
   "file_extension": ".py",
   "mimetype": "text/x-python",
   "name": "python",
   "nbconvert_exporter": "python",
   "pygments_lexer": "ipython3",
   "version": "3.9.13 (main, Aug 25 2022, 23:26:10) \n[GCC 11.2.0]"
  },
  "orig_nbformat": 4,
  "vscode": {
   "interpreter": {
    "hash": "46f35c9eff8a0d1491dda540887722365ac83ec886b03d1f07de4a34c3620054"
   }
  }
 },
 "nbformat": 4,
 "nbformat_minor": 2
}
